{
 "cells": [
  {
   "cell_type": "code",
   "execution_count": 2,
   "metadata": {},
   "outputs": [],
   "source": [
    "import numpy as np\n",
    "import pandas as pd\n",
    "import tensorflow as tf"
   ]
  },
  {
   "cell_type": "code",
   "execution_count": 3,
   "metadata": {},
   "outputs": [],
   "source": [
    "train_images = np.load('kuzushiji_mnist/'+'kmnist-train-imgs.npz')['arr_0']\n",
    "test_images = np.load('kuzushiji_mnist/'+'kmnist-test-imgs.npz')['arr_0']\n",
    "train_labels = np.load('kuzushiji_mnist/'+'kmnist-train-labels.npz')['arr_0']\n",
    "test_labels = np.load('kuzushiji_mnist/'+'kmnist-test-labels.npz')['arr_0']"
   ]
  },
  {
   "cell_type": "code",
   "execution_count": 4,
   "metadata": {},
   "outputs": [
    {
     "data": {
      "text/plain": [
       "(60000, 28, 28)"
      ]
     },
     "execution_count": 4,
     "metadata": {},
     "output_type": "execute_result"
    }
   ],
   "source": [
    "train_images.shape"
   ]
  },
  {
   "cell_type": "code",
   "execution_count": 5,
   "metadata": {},
   "outputs": [
    {
     "data": {
      "text/plain": [
       "(60000, 1)"
      ]
     },
     "execution_count": 5,
     "metadata": {},
     "output_type": "execute_result"
    }
   ],
   "source": [
    "train_labels = train_labels.reshape(-1, 1)\n",
    "train_labels.shape"
   ]
  },
  {
   "cell_type": "code",
   "execution_count": 15,
   "metadata": {},
   "outputs": [
    {
     "data": {
      "text/plain": [
       "array([7])"
      ]
     },
     "execution_count": 15,
     "metadata": {},
     "output_type": "execute_result"
    }
   ],
   "source": [
    "train_labels[1]"
   ]
  },
  {
   "cell_type": "code",
   "execution_count": 16,
   "metadata": {},
   "outputs": [
    {
     "data": {
      "text/plain": [
       "dtype('int32')"
      ]
     },
     "execution_count": 16,
     "metadata": {},
     "output_type": "execute_result"
    }
   ],
   "source": [
    "train_labels.dtype"
   ]
  },
  {
   "cell_type": "code",
   "execution_count": 17,
   "metadata": {},
   "outputs": [],
   "source": [
    "train_images = np.asarray(train_images, dtype = np.float32)\n",
    "train_labels = np.asarray(train_labels, dtype = np.int32)\n",
    "test_images = np.asarray(test_images, dtype = np.float32)\n",
    "test_labels = np.asarray(test_labels, dtype = np.int32)"
   ]
  },
  {
   "cell_type": "code",
   "execution_count": 69,
   "metadata": {},
   "outputs": [
    {
     "data": {
      "text/plain": [
       "Text(0.5, 1.0, 'Classe: [7]')"
      ]
     },
     "execution_count": 69,
     "metadata": {},
     "output_type": "execute_result"
    },
    {
     "data": {
      "image/png": "[encoded data removed]",
      "text/plain": [
       "<Figure size 432x288 with 1 Axes>"
      ]
     },
     "metadata": {
      "needs_background": "light"
     },
     "output_type": "display_data"
    }
   ],
   "source": [
    "import matplotlib.pyplot as plt\n",
    "%matplotlib inline\n",
    "plt.imshow(train_images[1], cmap = 'gray')\n",
    "plt.title('Classe: ' + str(train_labels[1]))"
   ]
  },
  {
   "cell_type": "code",
   "execution_count": 19,
   "metadata": {},
   "outputs": [],
   "source": [
    "char_df = pd.read_csv('kuzushiji_mnist/'+'kmnist_classmap.csv', encoding = 'utf-8')"
   ]
  },
  {
   "cell_type": "code",
   "execution_count": 83,
   "metadata": {},
   "outputs": [
    {
     "data": {
      "text/plain": [
       "0    お\n",
       "1    き\n",
       "2    す\n",
       "3    つ\n",
       "4    な\n",
       "5    は\n",
       "6    ま\n",
       "7    や\n",
       "8    れ\n",
       "9    を\n",
       "Name: char, dtype: object"
      ]
     },
     "execution_count": 83,
     "metadata": {},
     "output_type": "execute_result"
    }
   ],
   "source": [
    "char_df['char']"
   ]
  },
  {
   "cell_type": "code",
   "execution_count": 90,
   "metadata": {},
   "outputs": [],
   "source": [
    "def create_network(features, labels, mode):\n",
    "    input = tf.reshape(features['x'], [-1, 28, 28, 1])\n",
    "    \n",
    "    # receives [batch_size, 28, 28, 1]\n",
    "    # returns [batch_size, 28, 28, 32]\n",
    "    convolution1 = tf.layers.conv2d(inputs = input, filters = 32, kernel_size = [5,5], activation = tf.nn.relu,\n",
    "                                 padding = 'same')\n",
    "    \n",
    "    # receives [batch_size, 28, 28, 1]\n",
    "    # returns [batch_size, 14, 14, 32]\n",
    "    pooling1 = tf.layers.max_pooling2d(inputs = convolution1, pool_size = [2,2], strides = 2)\n",
    "    \n",
    "    # receives [batch_size, 14, 14, 32]\n",
    "    # returns [batch_size, 14, 14, 64]\n",
    "    convolution2 = tf.layers.conv2d(inputs = pooling1, filters = 64, kernel_size = [5,5], activation = tf.nn.relu,\n",
    "                                  padding = 'same')\n",
    "    \n",
    "    # receives [batch_size, 14, 14, 64]\n",
    "    # returns [batch_size, 7, 7, 64]\n",
    "    pooling2 = tf.layers.max_pooling2d(inputs = convolution2, pool_size = [2,2], strides = 2)\n",
    "    \n",
    "    # receives [batch_size, 7, 7, 64]\n",
    "    # returns [batch_size, 3136]\n",
    "    flattening = tf.reshape(pooling2, [-1, 7 * 7 * 64])\n",
    "    \n",
    "    # 3136 inputs -> 1024 neurons on hidden layer -> 10 outputs\n",
    "    # receives [batch_size, 3136]\n",
    "    # returns [batch_size, 1024]\n",
    "    dense = tf.layers.dense(inputs = flattening, units = 1024, activation = tf.nn.relu)\n",
    "    \n",
    "    dense2 = tf.layers.dense(inputs = dense, units = 1024, activation = tf.nn.relu)\n",
    "    \n",
    "    # dropout\n",
    "    dropout =  tf.layers.dropout(inputs = dense2, rate = 0.2, training = mode == tf.estimator.ModeKeys.TRAIN)\n",
    "    \n",
    "    # receives [batch_size, 1024]\n",
    "    # returns [batch_size, 10]\n",
    "    output = tf.layers.dense(inputs = dropout, units = 10)\n",
    "    \n",
    "    predictions = tf.argmax(output, axis = 1)\n",
    "    \n",
    "    if(mode == tf.estimator.ModeKeys.PREDICT):\n",
    "        return tf.estimator.EstimatorSpec(mode = mode, predictions = predictions)  \n",
    "    \n",
    "    losses = tf.losses.sparse_softmax_cross_entropy(labels = labels, logits = output)\n",
    "    \n",
    "    if(mode == tf.estimator.ModeKeys.TRAIN):\n",
    "        optimizer = tf.train.AdamOptimizer(learning_rate = 0.001)\n",
    "        train = optimizer.minimize(losses, global_step = tf.train.get_global_step())\n",
    "        return tf.estimator.EstimatorSpec(mode = mode, loss = losses, train_op = train)\n",
    "    \n",
    "    if(mode == tf.estimator.ModeKeys.EVAL):\n",
    "        eval_metrics_ops = {'accuracy': tf.metrics.accuracy(labels = labels, predictions = predictions)}\n",
    "        return tf.estimator.EstimatorSpec(mode = mode, loss = losses, eval_metric_ops = eval_metrics_ops)      "
   ]
  },
  {
   "cell_type": "code",
   "execution_count": 91,
   "metadata": {},
   "outputs": [
    {
     "name": "stdout",
     "output_type": "stream",
     "text": [
      "INFO:tensorflow:Using default config.\n",
      "WARNING:tensorflow:Using temporary folder as model directory: C:\\Users\\diego\\AppData\\Local\\Temp\\tmpzc44yad5\n",
      "INFO:tensorflow:Using config: {'_model_dir': 'C:\\\\Users\\\\diego\\\\AppData\\\\Local\\\\Temp\\\\tmpzc44yad5', '_tf_random_seed': None, '_save_summary_steps': 100, '_save_checkpoints_steps': None, '_save_checkpoints_secs': 600, '_session_config': allow_soft_placement: true\n",
      "graph_options {\n",
      "  rewrite_options {\n",
      "    meta_optimizer_iterations: ONE\n",
      "  }\n",
      "}\n",
      ", '_keep_checkpoint_max': 5, '_keep_checkpoint_every_n_hours': 10000, '_log_step_count_steps': 100, '_train_distribute': None, '_device_fn': None, '_protocol': None, '_eval_distribute': None, '_experimental_distribute': None, '_service': None, '_cluster_spec': <tensorflow.python.training.server_lib.ClusterSpec object at 0x000002332706E0B8>, '_task_type': 'worker', '_task_id': 0, '_global_id_in_cluster': 0, '_master': '', '_evaluation_master': '', '_is_chief': True, '_num_ps_replicas': 0, '_num_worker_replicas': 1}\n"
     ]
    }
   ],
   "source": [
    "classifier = tf.estimator.Estimator(model_fn = create_network)"
   ]
  },
  {
   "cell_type": "code",
   "execution_count": 92,
   "metadata": {},
   "outputs": [
    {
     "name": "stdout",
     "output_type": "stream",
     "text": [
      "INFO:tensorflow:Calling model_fn.\n",
      "INFO:tensorflow:Done calling model_fn.\n",
      "INFO:tensorflow:Create CheckpointSaverHook.\n",
      "INFO:tensorflow:Graph was finalized.\n",
      "INFO:tensorflow:Running local_init_op.\n",
      "INFO:tensorflow:Done running local_init_op.\n",
      "INFO:tensorflow:Saving checkpoints for 0 into C:\\Users\\diego\\AppData\\Local\\Temp\\tmpzc44yad5\\model.ckpt.\n",
      "INFO:tensorflow:loss = 37.654312, step = 1\n",
      "INFO:tensorflow:global_step/sec: 1.79837\n",
      "INFO:tensorflow:loss = 0.39159846, step = 101 (55.608 sec)\n",
      "INFO:tensorflow:global_step/sec: 1.78625\n",
      "INFO:tensorflow:loss = 0.43682536, step = 201 (55.983 sec)\n",
      "INFO:tensorflow:global_step/sec: 1.90871\n",
      "INFO:tensorflow:loss = 0.2443912, step = 301 (52.426 sec)\n",
      "INFO:tensorflow:global_step/sec: 1.77169\n",
      "INFO:tensorflow:loss = 0.2679621, step = 401 (56.407 sec)\n",
      "INFO:tensorflow:global_step/sec: 1.67856\n",
      "INFO:tensorflow:loss = 0.063675076, step = 501 (59.576 sec)\n",
      "INFO:tensorflow:global_step/sec: 1.67009\n",
      "INFO:tensorflow:loss = 0.22503719, step = 601 (59.914 sec)\n",
      "INFO:tensorflow:global_step/sec: 1.69839\n",
      "INFO:tensorflow:loss = 0.17082085, step = 701 (58.842 sec)\n",
      "INFO:tensorflow:global_step/sec: 1.55559\n",
      "INFO:tensorflow:loss = 0.036110103, step = 801 (64.319 sec)\n",
      "INFO:tensorflow:global_step/sec: 1.68165\n",
      "INFO:tensorflow:loss = 0.096588805, step = 901 (59.431 sec)\n",
      "INFO:tensorflow:global_step/sec: 1.76374\n",
      "INFO:tensorflow:loss = 0.09823792, step = 1001 (56.697 sec)\n",
      "INFO:tensorflow:Saving checkpoints for 1036 into C:\\Users\\diego\\AppData\\Local\\Temp\\tmpzc44yad5\\model.ckpt.\n",
      "INFO:tensorflow:global_step/sec: 1.64385\n",
      "INFO:tensorflow:loss = 0.056101903, step = 1101 (60.835 sec)\n",
      "INFO:tensorflow:global_step/sec: 1.74262\n",
      "INFO:tensorflow:loss = 0.08031048, step = 1201 (57.384 sec)\n",
      "INFO:tensorflow:global_step/sec: 1.7265\n",
      "INFO:tensorflow:loss = 0.054654785, step = 1301 (57.958 sec)\n",
      "INFO:tensorflow:global_step/sec: 1.75682\n",
      "INFO:tensorflow:loss = 0.023922939, step = 1401 (56.883 sec)\n",
      "INFO:tensorflow:global_step/sec: 1.71696\n",
      "INFO:tensorflow:loss = 0.08360705, step = 1501 (58.243 sec)\n",
      "INFO:tensorflow:global_step/sec: 1.66595\n",
      "INFO:tensorflow:loss = 0.053094555, step = 1601 (60.067 sec)\n",
      "INFO:tensorflow:global_step/sec: 1.65947\n",
      "INFO:tensorflow:loss = 0.017970927, step = 1701 (60.218 sec)\n",
      "INFO:tensorflow:global_step/sec: 1.67286\n",
      "INFO:tensorflow:loss = 0.05745215, step = 1801 (59.842 sec)\n",
      "INFO:tensorflow:global_step/sec: 1.68262\n",
      "INFO:tensorflow:loss = 0.093558826, step = 1901 (59.367 sec)\n",
      "INFO:tensorflow:Saving checkpoints for 2000 into C:\\Users\\diego\\AppData\\Local\\Temp\\tmpzc44yad5\\model.ckpt.\n",
      "INFO:tensorflow:Loss for final step: 0.09126615.\n"
     ]
    },
    {
     "data": {
      "text/plain": [
       "<tensorflow.python.estimator.estimator.Estimator at 0x233270512b0>"
      ]
     },
     "execution_count": 92,
     "metadata": {},
     "output_type": "execute_result"
    }
   ],
   "source": [
    "train_function = tf.estimator.inputs.numpy_input_fn(x = {'x': train_images}, y = train_labels, \n",
    "                                                        batch_size= 128, num_epochs= None, shuffle= True)\n",
    "classifier.train(input_fn = train_function, steps = 2000)"
   ]
  },
  {
   "cell_type": "code",
   "execution_count": 94,
   "metadata": {},
   "outputs": [
    {
     "name": "stdout",
     "output_type": "stream",
     "text": [
      "INFO:tensorflow:Calling model_fn.\n",
      "INFO:tensorflow:Done calling model_fn.\n",
      "INFO:tensorflow:Starting evaluation at 2019-01-21-13:49:56\n",
      "INFO:tensorflow:Graph was finalized.\n",
      "INFO:tensorflow:Restoring parameters from C:\\Users\\diego\\AppData\\Local\\Temp\\tmpzc44yad5\\model.ckpt-2000\n",
      "INFO:tensorflow:Running local_init_op.\n",
      "INFO:tensorflow:Done running local_init_op.\n",
      "INFO:tensorflow:Finished evaluation at 2019-01-21-13:50:09\n",
      "INFO:tensorflow:Saving dict for global step 2000: accuracy = 0.9344, global_step = 2000, loss = 0.27803466\n",
      "INFO:tensorflow:Saving 'checkpoint_path' summary for global step 2000: C:\\Users\\diego\\AppData\\Local\\Temp\\tmpzc44yad5\\model.ckpt-2000\n"
     ]
    },
    {
     "data": {
      "text/plain": [
       "{'accuracy': 0.9344, 'loss': 0.27803466, 'global_step': 2000}"
      ]
     },
     "execution_count": 94,
     "metadata": {},
     "output_type": "execute_result"
    }
   ],
   "source": [
    "test_function = tf.estimator.inputs.numpy_input_fn(x = {'x': test_images}, y = test_labels, num_epochs = 1, shuffle = False)\n",
    "\n",
    "results = classifier.evaluate(input_fn = test_function)\n",
    "results"
   ]
  },
  {
   "cell_type": "code",
   "execution_count": 95,
   "metadata": {},
   "outputs": [
    {
     "data": {
      "text/plain": [
       "(1, 784)"
      ]
     },
     "execution_count": 95,
     "metadata": {},
     "output_type": "execute_result"
    }
   ],
   "source": [
    "x_image_test = test_images[2]\n",
    "x_image_test = x_image_test.reshape(1,-1)\n",
    "x_image_test.shape"
   ]
  },
  {
   "cell_type": "code",
   "execution_count": 96,
   "metadata": {},
   "outputs": [
    {
     "name": "stdout",
     "output_type": "stream",
     "text": [
      "INFO:tensorflow:Calling model_fn.\n",
      "INFO:tensorflow:Done calling model_fn.\n",
      "INFO:tensorflow:Graph was finalized.\n",
      "INFO:tensorflow:Restoring parameters from C:\\Users\\diego\\AppData\\Local\\Temp\\tmpzc44yad5\\model.ckpt-2000\n",
      "INFO:tensorflow:Running local_init_op.\n",
      "INFO:tensorflow:Done running local_init_op.\n"
     ]
    }
   ],
   "source": [
    "prediction_function = tf.estimator.inputs.numpy_input_fn(x = {'x': x_image_test}, shuffle = False)\n",
    "pred = list(classifier.predict(input_fn = prediction_function))"
   ]
  },
  {
   "cell_type": "code",
   "execution_count": 97,
   "metadata": {},
   "outputs": [
    {
     "data": {
      "text/plain": [
       "Text(0.5, 1.0, 'Classe prevista: つ')"
      ]
     },
     "execution_count": 97,
     "metadata": {},
     "output_type": "execute_result"
    },
    {
     "data": {
      "image/png": "[encoded data removed]",
      "text/plain": [
       "<Figure size 432x288 with 1 Axes>"
      ]
     },
     "metadata": {
      "needs_background": "light"
     },
     "output_type": "display_data"
    }
   ],
   "source": [
    "plt.imshow(x_image_test.reshape((28,28)), cmap = 'gray')\n",
    "plt.title('Classe prevista: ' + str(char_df['char'][pred[0]]))"
   ]
  }
 ],
 "metadata": {
  "kernelspec": {
   "display_name": "Python 3",
   "language": "python",
   "name": "python3"
  },
  "language_info": {
   "codemirror_mode": {
    "name": "ipython",
    "version": 3
   },
   "file_extension": ".py",
   "mimetype": "text/x-python",
   "name": "python",
   "nbconvert_exporter": "python",
   "pygments_lexer": "ipython3",
   "version": "3.6.8"
  }
 },
 "nbformat": 4,
 "nbformat_minor": 2
}
