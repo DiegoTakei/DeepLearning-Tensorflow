{
 "cells": [
  {
   "cell_type": "code",
   "execution_count": null,
   "metadata": {},
   "outputs": [],
   "source": [
    "import numpy as np\n",
    "from tensorflow.examples.tutorials.mnist import input_data\n",
    "mnist = input_data.read_data_sets('mnist/', one_hot = False)"
   ]
  },
  {
   "cell_type": "code",
   "execution_count": 110,
   "metadata": {},
   "outputs": [],
   "source": [
    "x_train = mnist.train.images\n",
    "x_test = mnist.test.images\n",
    "y_train = mnist.train.labels\n",
    "y_test = mnist.test.labels"
   ]
  },
  {
   "cell_type": "code",
   "execution_count": 111,
   "metadata": {},
   "outputs": [],
   "source": [
    "y_train = np.asarray(y_train, dtype = np.int32)\n",
    "y_test = np.asarray(y_test, dtype = np.int32)"
   ]
  },
  {
   "cell_type": "code",
   "execution_count": 112,
   "metadata": {},
   "outputs": [
    {
     "data": {
      "text/plain": [
       "(10000, 784)"
      ]
     },
     "execution_count": 112,
     "metadata": {},
     "output_type": "execute_result"
    }
   ],
   "source": [
    "x_test.shape"
   ]
  },
  {
   "cell_type": "code",
   "execution_count": 113,
   "metadata": {},
   "outputs": [
    {
     "data": {
      "text/plain": [
       "Text(0.5, 1.0, 'Classe: 7')"
      ]
     },
     "execution_count": 113,
     "metadata": {},
     "output_type": "execute_result"
    },
    {
     "data": {
      "image/png": "[encoded data removed]",
      "text/plain": [
       "<Figure size 432x288 with 1 Axes>"
      ]
     },
     "metadata": {
      "needs_background": "light"
     },
     "output_type": "display_data"
    }
   ],
   "source": [
    "import matplotlib.pyplot as plt\n",
    "%matplotlib inline\n",
    "plt.imshow(x_treinamento[0].reshape(28, 28), cmap = 'gray')\n",
    "plt.title('Classe: ' + str(y_train[0]))"
   ]
  },
  {
   "cell_type": "code",
   "execution_count": 114,
   "metadata": {},
   "outputs": [],
   "source": [
    "import tensorflow as tf"
   ]
  },
  {
   "cell_type": "code",
   "execution_count": 115,
   "metadata": {},
   "outputs": [],
   "source": [
    "def create_network(features, labels, mode):\n",
    "    input = tf.reshape(features['x'], [-1, 28, 28, 1])\n",
    "    \n",
    "    # receives [batch_size, 28, 28, 1]\n",
    "    # returns [batch_size, 28, 28, 32]\n",
    "    convolution1 = tf.layers.conv2d(inputs = input, filters = 32, kernel_size = [5,5], activation = tf.nn.relu,\n",
    "                                 padding = 'same')\n",
    "    \n",
    "    # receives [batch_size, 28, 28, 1]\n",
    "    # returns [batch_size, 14, 14, 32]\n",
    "    pooling1 = tf.layers.max_pooling2d(inputs = convolution1, pool_size = [2,2], strides = 2)\n",
    "    \n",
    "    # receives [batch_size, 14, 14, 32]\n",
    "    # returns [batch_size, 14, 14, 64]\n",
    "    convolution2 = tf.layers.conv2d(inputs = pooling1, filters = 64, kernel_size = [5,5], activation = tf.nn.relu,\n",
    "                                  padding = 'same')\n",
    "    \n",
    "    # receives [batch_size, 14, 14, 64]\n",
    "    # returns [batch_size, 7, 7, 64]\n",
    "    pooling2 = tf.layers.max_pooling2d(inputs = convolution2, pool_size = [2,2], strides = 2)\n",
    "    \n",
    "    # receives [batch_size, 7, 7, 64]\n",
    "    # returns [batch_size, 3136]\n",
    "    flattening = tf.reshape(pooling2, [-1, 7 * 7 * 64])\n",
    "    \n",
    "    # 3136 inputs -> 1024 neurons on hidden layer -> 10 outputs\n",
    "    # receives [batch_size, 3136]\n",
    "    # returns [batch_size, 1024]\n",
    "    dense = tf.layers.dense(inputs = flattening, units = 1024, activation = tf.nn.relu)\n",
    "    \n",
    "    # dropout\n",
    "    dropout =  tf.layers.dropout(inputs = dense, rate = 0.2, training = mode == tf.estimator.ModeKeys.TRAIN)\n",
    "    \n",
    "    # receives [batch_size, 1024]\n",
    "    # returns [batch_size, 10]\n",
    "    output = tf.layers.dense(inputs = dropout, units = 10)\n",
    "    \n",
    "    predictions = tf.argmax(output, axis = 1)\n",
    "    \n",
    "    if(mode == tf.estimator.ModeKeys.PREDICT):\n",
    "        return tf.estimator.EstimatorSpec(mode = mode, predictions = predictions)  \n",
    "    \n",
    "    losses = tf.losses.sparse_softmax_cross_entropy(labels = labels, logits = output)\n",
    "    \n",
    "    if(mode == tf.estimator.ModeKeys.TRAIN):\n",
    "        optimizer = tf.train.AdamOptimizer(learning_rate = 0.001)\n",
    "        train = optimizer.minimize(losses, global_step = tf.train.get_global_step())\n",
    "        return tf.estimator.EstimatorSpec(mode = mode, loss = losses, train_op = train)\n",
    "    \n",
    "    if(mode == tf.estimator.ModeKeys.EVAL):\n",
    "        eval_metrics_ops = {'accuracy': tf.metrics.accuracy(labels = labels, predictions = predictions)}\n",
    "        return tf.estimator.EstimatorSpec(mode = mode, loss = losses, eval_metric_ops = eval_metrics_ops)         "
   ]
  },
  {
   "cell_type": "code",
   "execution_count": null,
   "metadata": {},
   "outputs": [],
   "source": [
    "classifier = tf.estimator.Estimator(model_fn = create_network)"
   ]
  },
  {
   "cell_type": "code",
   "execution_count": 123,
   "metadata": {},
   "outputs": [
    {
     "name": "stdout",
     "output_type": "stream",
     "text": [
      "INFO:tensorflow:Calling model_fn.\n",
      "INFO:tensorflow:Done calling model_fn.\n",
      "INFO:tensorflow:Create CheckpointSaverHook.\n",
      "INFO:tensorflow:Graph was finalized.\n",
      "INFO:tensorflow:Restoring parameters from C:\\Users\\diego\\AppData\\Local\\Temp\\tmp50se6tou\\model.ckpt-1000\n",
      "INFO:tensorflow:Running local_init_op.\n",
      "INFO:tensorflow:Done running local_init_op.\n",
      "INFO:tensorflow:Saving checkpoints for 1000 into C:\\Users\\diego\\AppData\\Local\\Temp\\tmp50se6tou\\model.ckpt.\n",
      "INFO:tensorflow:loss = 0.033836316, step = 1001\n",
      "INFO:tensorflow:global_step/sec: 1.87008\n",
      "INFO:tensorflow:loss = 0.016413944, step = 1101 (53.476 sec)\n",
      "INFO:tensorflow:global_step/sec: 1.87824\n",
      "INFO:tensorflow:loss = 0.04313025, step = 1201 (53.240 sec)\n",
      "INFO:tensorflow:global_step/sec: 1.99169\n",
      "INFO:tensorflow:loss = 0.015618335, step = 1301 (50.360 sec)\n",
      "INFO:tensorflow:global_step/sec: 1.83042\n",
      "INFO:tensorflow:loss = 0.006344838, step = 1401 (54.482 sec)\n",
      "INFO:tensorflow:global_step/sec: 1.91656\n",
      "INFO:tensorflow:loss = 0.018813241, step = 1501 (52.176 sec)\n",
      "INFO:tensorflow:global_step/sec: 1.78021\n",
      "INFO:tensorflow:loss = 0.0023936704, step = 1601 (56.255 sec)\n",
      "INFO:tensorflow:global_step/sec: 1.7641\n",
      "INFO:tensorflow:loss = 0.014479599, step = 1701 (56.604 sec)\n",
      "INFO:tensorflow:global_step/sec: 1.85087\n",
      "INFO:tensorflow:loss = 0.022740444, step = 1801 (54.030 sec)\n",
      "INFO:tensorflow:global_step/sec: 1.91053\n",
      "INFO:tensorflow:loss = 0.00042374348, step = 1901 (52.512 sec)\n",
      "INFO:tensorflow:global_step/sec: 1.85583\n",
      "INFO:tensorflow:loss = 0.0048733563, step = 2001 (53.713 sec)\n",
      "INFO:tensorflow:global_step/sec: 1.97079\n",
      "INFO:tensorflow:loss = 0.034585204, step = 2101 (50.741 sec)\n",
      "INFO:tensorflow:Saving checkpoints for 2121 into C:\\Users\\diego\\AppData\\Local\\Temp\\tmp50se6tou\\model.ckpt.\n",
      "INFO:tensorflow:global_step/sec: 1.72748\n",
      "INFO:tensorflow:loss = 0.031932924, step = 2201 (57.977 sec)\n",
      "INFO:tensorflow:global_step/sec: 1.87518\n",
      "INFO:tensorflow:loss = 0.005392099, step = 2301 (53.239 sec)\n",
      "INFO:tensorflow:global_step/sec: 1.80653\n",
      "INFO:tensorflow:loss = 0.009797022, step = 2401 (55.355 sec)\n",
      "INFO:tensorflow:global_step/sec: 1.78575\n",
      "INFO:tensorflow:loss = 0.0044998373, step = 2501 (56.080 sec)\n",
      "INFO:tensorflow:global_step/sec: 1.83176\n",
      "INFO:tensorflow:loss = 0.010325169, step = 2601 (54.511 sec)\n",
      "INFO:tensorflow:global_step/sec: 2.00636\n",
      "INFO:tensorflow:loss = 0.0137282545, step = 2701 (49.841 sec)\n",
      "INFO:tensorflow:global_step/sec: 2.00843\n",
      "INFO:tensorflow:loss = 0.0005368389, step = 2801 (49.865 sec)\n",
      "INFO:tensorflow:global_step/sec: 1.99758\n",
      "INFO:tensorflow:loss = 0.011921978, step = 2901 (49.986 sec)\n",
      "INFO:tensorflow:Saving checkpoints for 3000 into C:\\Users\\diego\\AppData\\Local\\Temp\\tmp50se6tou\\model.ckpt.\n",
      "INFO:tensorflow:Loss for final step: 8.4442974e-05.\n"
     ]
    },
    {
     "data": {
      "text/plain": [
       "<tensorflow.python.estimator.estimator.Estimator at 0x227ccd93320>"
      ]
     },
     "execution_count": 123,
     "metadata": {},
     "output_type": "execute_result"
    }
   ],
   "source": [
    "train_function = tf.estimator.inputs.numpy_input_fn(x = {'x': x_train}, y = y_train, \n",
    "                                                        batch_size= 128, num_epochs= None, shuffle= True)\n",
    "classifier.train(input_fn = train_function, steps = 2000)"
   ]
  },
  {
   "cell_type": "code",
   "execution_count": 125,
   "metadata": {},
   "outputs": [
    {
     "name": "stdout",
     "output_type": "stream",
     "text": [
      "INFO:tensorflow:Calling model_fn.\n",
      "INFO:tensorflow:Done calling model_fn.\n",
      "INFO:tensorflow:Starting evaluation at 2019-01-17-19:14:51\n",
      "INFO:tensorflow:Graph was finalized.\n",
      "INFO:tensorflow:Restoring parameters from C:\\Users\\diego\\AppData\\Local\\Temp\\tmp50se6tou\\model.ckpt-3000\n",
      "INFO:tensorflow:Running local_init_op.\n",
      "INFO:tensorflow:Done running local_init_op.\n",
      "INFO:tensorflow:Finished evaluation at 2019-01-17-19:15:03\n",
      "INFO:tensorflow:Saving dict for global step 3000: accuracy = 0.991, global_step = 3000, loss = 0.029747501\n",
      "INFO:tensorflow:Saving 'checkpoint_path' summary for global step 3000: C:\\Users\\diego\\AppData\\Local\\Temp\\tmp50se6tou\\model.ckpt-3000\n"
     ]
    },
    {
     "data": {
      "text/plain": [
       "{'accuracy': 0.991, 'loss': 0.029747501, 'global_step': 3000}"
      ]
     },
     "execution_count": 125,
     "metadata": {},
     "output_type": "execute_result"
    }
   ],
   "source": [
    "test_function = tf.estimator.inputs.numpy_input_fn(x = {'x': x_test}, y = y_test, num_epochs = 1, shuffle = False)\n",
    "\n",
    "results = classifier.evaluate(input_fn = test_function)\n",
    "results"
   ]
  },
  {
   "cell_type": "code",
   "execution_count": 126,
   "metadata": {},
   "outputs": [
    {
     "data": {
      "text/plain": [
       "(1, 784)"
      ]
     },
     "execution_count": 126,
     "metadata": {},
     "output_type": "execute_result"
    }
   ],
   "source": [
    "x_image_test = x_teste[0]\n",
    "x_image_test = x_image_test.reshape(1,-1)\n",
    "x_image_test.shape"
   ]
  },
  {
   "cell_type": "code",
   "execution_count": null,
   "metadata": {},
   "outputs": [],
   "source": [
    "prediction_function = tf.estimator.inputs.numpy_input_fn(x = {'x': x_image_test}, shuffle = False)\n",
    "pred = list(classifier.predict(input_fn = prediction_function))"
   ]
  },
  {
   "cell_type": "code",
   "execution_count": 128,
   "metadata": {},
   "outputs": [
    {
     "data": {
      "text/plain": [
       "7"
      ]
     },
     "execution_count": 128,
     "metadata": {},
     "output_type": "execute_result"
    }
   ],
   "source": [
    "pred[0]"
   ]
  },
  {
   "cell_type": "code",
   "execution_count": 129,
   "metadata": {},
   "outputs": [
    {
     "data": {
      "text/plain": [
       "Text(0.5, 1.0, 'Classe prevista: 7')"
      ]
     },
     "execution_count": 129,
     "metadata": {},
     "output_type": "execute_result"
    },
    {
     "data": {
      "image/png": "[encoded data removed]",
      "text/plain": [
       "<Figure size 432x288 with 1 Axes>"
      ]
     },
     "metadata": {
      "needs_background": "light"
     },
     "output_type": "display_data"
    }
   ],
   "source": [
    "plt.imshow(x_image_test.reshape((28,28)), cmap = 'gray')\n",
    "plt.title('Classe prevista: ' + str(pred[0]))"
   ]
  },
  {
   "cell_type": "code",
   "execution_count": null,
   "metadata": {},
   "outputs": [],
   "source": []
  },
  {
   "cell_type": "code",
   "execution_count": null,
   "metadata": {},
   "outputs": [],
   "source": []
  },
  {
   "cell_type": "code",
   "execution_count": null,
   "metadata": {},
   "outputs": [],
   "source": []
  },
  {
   "cell_type": "code",
   "execution_count": null,
   "metadata": {},
   "outputs": [],
   "source": []
  },
  {
   "cell_type": "code",
   "execution_count": null,
   "metadata": {},
   "outputs": [],
   "source": []
  },
  {
   "cell_type": "code",
   "execution_count": null,
   "metadata": {},
   "outputs": [],
   "source": []
  }
 ],
 "metadata": {
  "kernelspec": {
   "display_name": "Python 3",
   "language": "python",
   "name": "python3"
  },
  "language_info": {
   "codemirror_mode": {
    "name": "ipython",
    "version": 3
   },
   "file_extension": ".py",
   "mimetype": "text/x-python",
   "name": "python",
   "nbconvert_exporter": "python",
   "pygments_lexer": "ipython3",
   "version": "3.6.8"
  }
 },
 "nbformat": 4,
 "nbformat_minor": 2
}
