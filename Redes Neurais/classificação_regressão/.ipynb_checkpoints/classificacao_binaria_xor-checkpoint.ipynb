{
 "cells": [
  {
   "cell_type": "code",
   "execution_count": 73,
   "metadata": {},
   "outputs": [
    {
     "data": {
      "text/plain": [
       "array([[0, 0],\n",
       "       [0, 1],\n",
       "       [1, 0],\n",
       "       [1, 1]])"
      ]
     },
     "execution_count": 73,
     "metadata": {},
     "output_type": "execute_result"
    }
   ],
   "source": [
    "import tensorflow as tf\n",
    "import numpy as np\n",
    "\n",
    "x = np.array([[0,0], [0,1], [1,0], [1,1]])\n",
    "x"
   ]
  },
  {
   "cell_type": "code",
   "execution_count": 74,
   "metadata": {},
   "outputs": [
    {
     "data": {
      "text/plain": [
       "array([[1],\n",
       "       [0],\n",
       "       [0],\n",
       "       [1]])"
      ]
     },
     "execution_count": 74,
     "metadata": {},
     "output_type": "execute_result"
    }
   ],
   "source": [
    "y = np.array([[1], [0], [0], [1]])\n",
    "y"
   ]
  },
  {
   "cell_type": "code",
   "execution_count": 75,
   "metadata": {},
   "outputs": [],
   "source": [
    "neuronios_entrada = 2\n",
    "neuronios_oculta = 3\n",
    "neuronios_saida = 1"
   ]
  },
  {
   "cell_type": "code",
   "execution_count": 76,
   "metadata": {},
   "outputs": [],
   "source": [
    "W = {'oculta': tf.Variable(tf.random_normal([neuronios_entrada, neuronios_oculta]), name = 'w_oculta'), \n",
    "     'saida': tf.Variable(tf.random_normal([neuronios_oculta, neuronios_saida]), name = 'w_saida')}"
   ]
  },
  {
   "cell_type": "code",
   "execution_count": 77,
   "metadata": {},
   "outputs": [],
   "source": [
    "b = {'oculta': tf.Variable(tf.random_normal([neuronios_oculta]),\n",
    "                           name = 'b_oculta'),\n",
    "     'saida': tf.Variable(tf.random_normal([neuronios_saida]),\n",
    "                           name = 'b_saida')}"
   ]
  },
  {
   "cell_type": "code",
   "execution_count": 78,
   "metadata": {},
   "outputs": [],
   "source": [
    "xph = tf.placeholder(tf.float32, [4, neuronios_entrada], name = 'xph')\n",
    "yph = tf.placeholder(tf.float32, [4, neuronios_saida], name = 'yph')"
   ]
  },
  {
   "cell_type": "code",
   "execution_count": 79,
   "metadata": {},
   "outputs": [],
   "source": [
    "camada_oculta = tf.add(tf.matmul(xph, w['oculta']), b['oculta'])\n",
    "camada_oculta_ativacao = tf.sigmoid(camada_oculta)\n",
    "camada_saida = tf.add(tf.matmul(camada_oculta_ativacao, w['saida']), b['saida'])\n",
    "camada_saida_ativacao = tf.sigmoid(camada_saida)\n",
    "erro = tf.losses.mean_squared_error(yph, camada_saida_ativacao)\n",
    "otimizador = tf.train.GradientDescentOptimizer(learning_rate= 0.3).minimize(erro)"
   ]
  },
  {
   "cell_type": "code",
   "execution_count": 80,
   "metadata": {},
   "outputs": [],
   "source": [
    "init = tf.global_variables_initializer()"
   ]
  },
  {
   "cell_type": "code",
   "execution_count": 81,
   "metadata": {},
   "outputs": [
    {
     "name": "stdout",
     "output_type": "stream",
     "text": [
      "0.06778533011674881\n",
      "0.06284739822149277\n",
      "0.06252911686897278\n",
      "0.06233659386634827\n",
      "0.062116820365190506\n",
      "0.06174284219741821\n",
      "0.06094694137573242\n",
      "0.05908874422311783\n",
      "0.05525265634059906\n",
      "0.049025095999240875\n",
      "0.04094799607992172\n",
      "0.032040853053331375\n",
      "0.02341083250939846\n",
      "0.016357356682419777\n",
      "0.011412587016820908\n",
      "0.008204815909266472\n",
      "0.00614158995449543\n",
      "0.004778516478836536\n",
      "0.003843239974230528\n",
      "0.003176604164764285\n",
      "0.0026848483830690384\n",
      "0.0023111102636903524\n",
      "0.0020197120029479265\n",
      "0.001787483342923224\n",
      "0.001598902279511094\n",
      "0.001443264540284872\n",
      "0.0013129913713783026\n",
      "0.0012025991454720497\n",
      "0.001108034630306065\n",
      "0.0010262500727549195\n",
      "0.0009549110545776784\n",
      "0.0008922056877054274\n",
      "0.0008367107948288321\n",
      "0.0007872908608987927\n",
      "0.0007430297555401921\n",
      "0.0007031900458969176\n",
      "0.0006671568262390792\n",
      "0.0006344282301142812\n",
      "0.000604580738581717\n",
      "0.0005772617878392339\n",
      "0.0005521732964552939\n",
      "0.0005290593253448606\n",
      "0.0005077008972875774\n",
      "0.0004879123589489609\n",
      "0.0004695309035014361\n",
      "0.0004524142714217305\n",
      "0.00043644109973683953\n",
      "0.0004215023072902113\n",
      "0.00040750359767116606\n",
      "0.00039436164661310613\n"
     ]
    }
   ],
   "source": [
    "with tf.Session() as sess:\n",
    "    sess.run(init)\n",
    "    for epocas in range(10000):\n",
    "        erro_medio = 0\n",
    "        _, custo = sess.run([otimizador, erro], feed_dict = {xph: x, yph: y})\n",
    "        if epocas % 200 == 0:\n",
    "            erro_medio += custo / 4\n",
    "            print(erro_medio)\n",
    "    w_final, b_final = sess.run([w, b])"
   ]
  },
  {
   "cell_type": "code",
   "execution_count": 82,
   "metadata": {
    "scrolled": true
   },
   "outputs": [
    {
     "data": {
      "text/plain": [
       "{'oculta': array([[ 3.2089903,  4.5672555, -5.987963 ],\n",
       "        [ 4.6348953, -3.5194848, -5.1031   ]], dtype=float32),\n",
       " 'saida': array([[7.9103227],\n",
       "        [2.4294446],\n",
       "        [8.02081  ]], dtype=float32)}"
      ]
     },
     "execution_count": 82,
     "metadata": {},
     "output_type": "execute_result"
    }
   ],
   "source": [
    "w_final"
   ]
  },
  {
   "cell_type": "code",
   "execution_count": 83,
   "metadata": {
    "scrolled": true
   },
   "outputs": [
    {
     "data": {
      "text/plain": [
       "{'oculta': array([-5.9888453,  2.0983422,  2.1018014], dtype=float32),\n",
       " 'saida': array([-5.9957113], dtype=float32)}"
      ]
     },
     "execution_count": 83,
     "metadata": {},
     "output_type": "execute_result"
    }
   ],
   "source": [
    "b_final"
   ]
  },
  {
   "cell_type": "code",
   "execution_count": 84,
   "metadata": {},
   "outputs": [],
   "source": [
    "# teste\n",
    "camada_oculta_teste = tf.add(tf.matmul(xph, w_final['oculta']), b_final['oculta'])\n",
    "camada_oculta_ativacao_teste = tf.sigmoid(camada_oculta_teste)\n",
    "camada_saida_teste = tf.add(tf.matmul(camada_oculta_ativacao_teste, w_final['saida']), b_final['saida'])\n",
    "camada_saida_ativacao_teste = tf.sigmoid(camada_saida_teste)\n"
   ]
  },
  {
   "cell_type": "code",
   "execution_count": 85,
   "metadata": {},
   "outputs": [
    {
     "name": "stdout",
     "output_type": "stream",
     "text": [
      "[[0.9656183 ]\n",
      " [0.02875117]\n",
      " [0.04993024]\n",
      " [0.95987207]]\n"
     ]
    }
   ],
   "source": [
    "with tf.Session() as sess:\n",
    "    sess.run(init)\n",
    "    print(sess.run(camada_saida_ativacao_teste, feed_dict = {xph: x}))"
   ]
  },
  {
   "cell_type": "code",
   "execution_count": null,
   "metadata": {},
   "outputs": [],
   "source": []
  },
  {
   "cell_type": "code",
   "execution_count": null,
   "metadata": {},
   "outputs": [],
   "source": []
  },
  {
   "cell_type": "code",
   "execution_count": null,
   "metadata": {},
   "outputs": [],
   "source": []
  },
  {
   "cell_type": "code",
   "execution_count": null,
   "metadata": {},
   "outputs": [],
   "source": []
  },
  {
   "cell_type": "code",
   "execution_count": null,
   "metadata": {},
   "outputs": [],
   "source": []
  }
 ],
 "metadata": {
  "kernelspec": {
   "display_name": "Python 3",
   "language": "python",
   "name": "python3"
  },
  "language_info": {
   "codemirror_mode": {
    "name": "ipython",
    "version": 3
   },
   "file_extension": ".py",
   "mimetype": "text/x-python",
   "name": "python",
   "nbconvert_exporter": "python",
   "pygments_lexer": "ipython3",
   "version": "3.6.8"
  }
 },
 "nbformat": 4,
 "nbformat_minor": 2
}
